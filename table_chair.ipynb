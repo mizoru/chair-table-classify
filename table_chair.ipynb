{
  "nbformat": 4,
  "nbformat_minor": 0,
  "metadata": {
    "colab": {
      "name": "deploy-table-chair.ipynb",
      "provenance": [],
      "authorship_tag": "ABX9TyM7OvEa7gALW7MEzQYfjxHM"
    },
    "kernelspec": {
      "display_name": "Python 3",
      "name": "python3"
    },
    "language_info": {
      "name": "python"
    },
    "widgets": {
      "application/vnd.jupyter.widget-state+json": {
        "00c5e52eb1214f39a1b225bac9509d68": {
          "model_module": "@jupyter-widgets/controls",
          "model_name": "VBoxModel",
          "model_module_version": "1.5.0",
          "state": {
            "_view_name": "VBoxView",
            "_dom_classes": [],
            "_model_name": "VBoxModel",
            "_view_module": "@jupyter-widgets/controls",
            "_model_module_version": "1.5.0",
            "_view_count": null,
            "_view_module_version": "1.5.0",
            "box_style": "",
            "layout": "IPY_MODEL_8da7750c387a4f9e96c149d0dec5f3bb",
            "_model_module": "@jupyter-widgets/controls",
            "children": [
              "IPY_MODEL_e8e6e407c604427cba04e1b6e148f999",
              "IPY_MODEL_fa48e7ef93d44a6f923c9169da51f31d",
              "IPY_MODEL_66d019f9a0184a208abe4c167b48960c",
              "IPY_MODEL_e6ebf7f10e53446682939fc67c12dae5",
              "IPY_MODEL_e6bb03831d0a4390894341baafc1ae2a",
              "IPY_MODEL_5c93dce0da084b41b439229f5770d343"
            ]
          }
        },
        "8da7750c387a4f9e96c149d0dec5f3bb": {
          "model_module": "@jupyter-widgets/base",
          "model_name": "LayoutModel",
          "model_module_version": "1.2.0",
          "state": {
            "_view_name": "LayoutView",
            "grid_template_rows": null,
            "right": null,
            "justify_content": null,
            "_view_module": "@jupyter-widgets/base",
            "overflow": null,
            "_model_module_version": "1.2.0",
            "_view_count": null,
            "flex_flow": null,
            "width": null,
            "min_width": null,
            "border": null,
            "align_items": null,
            "bottom": null,
            "_model_module": "@jupyter-widgets/base",
            "top": null,
            "grid_column": null,
            "overflow_y": null,
            "overflow_x": null,
            "grid_auto_flow": null,
            "grid_area": null,
            "grid_template_columns": null,
            "flex": null,
            "_model_name": "LayoutModel",
            "justify_items": null,
            "grid_row": null,
            "max_height": null,
            "align_content": null,
            "visibility": null,
            "align_self": null,
            "height": null,
            "min_height": null,
            "padding": null,
            "grid_auto_rows": null,
            "grid_gap": null,
            "max_width": null,
            "order": null,
            "_view_module_version": "1.2.0",
            "grid_template_areas": null,
            "object_position": null,
            "object_fit": null,
            "grid_auto_columns": null,
            "margin": null,
            "display": null,
            "left": null
          }
        },
        "e8e6e407c604427cba04e1b6e148f999": {
          "model_module": "@jupyter-widgets/controls",
          "model_name": "HTMLModel",
          "model_module_version": "1.5.0",
          "state": {
            "_view_name": "HTMLView",
            "style": "IPY_MODEL_c80ae10b42904b4ab124db1d473bade3",
            "_dom_classes": [],
            "description": "",
            "_model_name": "HTMLModel",
            "placeholder": "​",
            "_view_module": "@jupyter-widgets/controls",
            "_model_module_version": "1.5.0",
            "value": "На эту программу ушли недели кропотливой работы.<br>И всё это с одной целью - помочь Даниилу <b>Зуеву</b>.<br>Теперь, чтобы определить является ли объект <i>стулом</i> или <i>столом</i>, он может просто загрузить его фотографию сюда!",
            "_view_count": null,
            "_view_module_version": "1.5.0",
            "description_tooltip": null,
            "_model_module": "@jupyter-widgets/controls",
            "layout": "IPY_MODEL_9afeeddfbb2b4ebea7ea50a00b6cd89a"
          }
        },
        "fa48e7ef93d44a6f923c9169da51f31d": {
          "model_module": "@jupyter-widgets/controls",
          "model_name": "LabelModel",
          "model_module_version": "1.5.0",
          "state": {
            "_view_name": "LabelView",
            "style": "IPY_MODEL_303e09c969054f6baf64dc1c15b3bb0d",
            "_dom_classes": [],
            "description": "",
            "_model_name": "LabelModel",
            "placeholder": "​",
            "_view_module": "@jupyter-widgets/controls",
            "_model_module_version": "1.5.0",
            "value": "Выберите картинку",
            "_view_count": null,
            "_view_module_version": "1.5.0",
            "description_tooltip": null,
            "_model_module": "@jupyter-widgets/controls",
            "layout": "IPY_MODEL_4c25ca1828e241cab0bb6c750d2dfac6"
          }
        },
        "66d019f9a0184a208abe4c167b48960c": {
          "model_module": "@jupyter-widgets/controls",
          "model_name": "FileUploadModel",
          "model_module_version": "1.5.0",
          "state": {
            "_view_name": "FileUploadView",
            "_counter": 1,
            "style": "IPY_MODEL_34d45f6fef7c46a78741170268ae2802",
            "_dom_classes": [],
            "description": "Upload",
            "multiple": false,
            "_model_name": "FileUploadModel",
            "data": [
              null
            ],
            "button_style": "",
            "_view_module": "@jupyter-widgets/controls",
            "_model_module_version": "1.5.0",
            "accept": "",
            "_view_count": null,
            "disabled": false,
            "_view_module_version": "1.5.0",
            "error": "",
            "description_tooltip": null,
            "metadata": [
              {
                "name": "Chair.png",
                "type": "image/png",
                "size": 32835,
                "lastModified": 1635817170112
              }
            ],
            "_model_module": "@jupyter-widgets/controls",
            "layout": "IPY_MODEL_87c4d4d11ef54ec080d25c6f40d98802",
            "icon": "upload"
          }
        },
        "e6ebf7f10e53446682939fc67c12dae5": {
          "model_module": "@jupyter-widgets/controls",
          "model_name": "ButtonModel",
          "model_module_version": "1.5.0",
          "state": {
            "_view_name": "ButtonView",
            "style": "IPY_MODEL_f809f053b55543a89d032f2da4b2742b",
            "_dom_classes": [],
            "description": "Классифицировать",
            "_model_name": "ButtonModel",
            "button_style": "",
            "_view_module": "@jupyter-widgets/controls",
            "_model_module_version": "1.5.0",
            "tooltip": "",
            "_view_count": null,
            "disabled": false,
            "_view_module_version": "1.5.0",
            "layout": "IPY_MODEL_2f2b919891484e8886cfb877338efeeb",
            "_model_module": "@jupyter-widgets/controls",
            "icon": ""
          }
        },
        "e6bb03831d0a4390894341baafc1ae2a": {
          "model_module": "@jupyter-widgets/output",
          "model_name": "OutputModel",
          "model_module_version": "1.0.0",
          "state": {
            "_view_name": "OutputView",
            "msg_id": "",
            "_dom_classes": [],
            "_model_name": "OutputModel",
            "outputs": [
              {
                "output_type": "display_data",
                "data": {
                  "image/png": "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\n",
                  "text/plain": "<PIL.Image.Image image mode=RGB size=83x128 at 0x7F7423B70710>"
                },
                "metadata": {}
              }
            ],
            "_view_module": "@jupyter-widgets/output",
            "_model_module_version": "1.0.0",
            "_view_count": null,
            "_view_module_version": "1.0.0",
            "layout": "IPY_MODEL_539f5405d9644bb3aded1ed964836c31",
            "_model_module": "@jupyter-widgets/output"
          }
        },
        "5c93dce0da084b41b439229f5770d343": {
          "model_module": "@jupyter-widgets/controls",
          "model_name": "LabelModel",
          "model_module_version": "1.5.0",
          "state": {
            "_view_name": "LabelView",
            "style": "IPY_MODEL_2a18dd8cb0b941ed97a7f01ed4ce47b2",
            "_dom_classes": [],
            "description": "",
            "_model_name": "LabelModel",
            "placeholder": "​",
            "_view_module": "@jupyter-widgets/controls",
            "_model_module_version": "1.5.0",
            "value": "Предсказание: стул; Веротяность: 0.9836",
            "_view_count": null,
            "_view_module_version": "1.5.0",
            "description_tooltip": null,
            "_model_module": "@jupyter-widgets/controls",
            "layout": "IPY_MODEL_97be26d2664a40c18a1979729951fe49"
          }
        },
        "c80ae10b42904b4ab124db1d473bade3": {
          "model_module": "@jupyter-widgets/controls",
          "model_name": "DescriptionStyleModel",
          "model_module_version": "1.5.0",
          "state": {
            "_view_name": "StyleView",
            "_model_name": "DescriptionStyleModel",
            "description_width": "",
            "_view_module": "@jupyter-widgets/base",
            "_model_module_version": "1.5.0",
            "_view_count": null,
            "_view_module_version": "1.2.0",
            "_model_module": "@jupyter-widgets/controls"
          }
        },
        "9afeeddfbb2b4ebea7ea50a00b6cd89a": {
          "model_module": "@jupyter-widgets/base",
          "model_name": "LayoutModel",
          "model_module_version": "1.2.0",
          "state": {
            "_view_name": "LayoutView",
            "grid_template_rows": null,
            "right": null,
            "justify_content": null,
            "_view_module": "@jupyter-widgets/base",
            "overflow": null,
            "_model_module_version": "1.2.0",
            "_view_count": null,
            "flex_flow": null,
            "width": null,
            "min_width": null,
            "border": null,
            "align_items": null,
            "bottom": null,
            "_model_module": "@jupyter-widgets/base",
            "top": null,
            "grid_column": null,
            "overflow_y": null,
            "overflow_x": null,
            "grid_auto_flow": null,
            "grid_area": null,
            "grid_template_columns": null,
            "flex": null,
            "_model_name": "LayoutModel",
            "justify_items": null,
            "grid_row": null,
            "max_height": null,
            "align_content": null,
            "visibility": null,
            "align_self": null,
            "height": null,
            "min_height": null,
            "padding": null,
            "grid_auto_rows": null,
            "grid_gap": null,
            "max_width": null,
            "order": null,
            "_view_module_version": "1.2.0",
            "grid_template_areas": null,
            "object_position": null,
            "object_fit": null,
            "grid_auto_columns": null,
            "margin": null,
            "display": null,
            "left": null
          }
        },
        "303e09c969054f6baf64dc1c15b3bb0d": {
          "model_module": "@jupyter-widgets/controls",
          "model_name": "DescriptionStyleModel",
          "model_module_version": "1.5.0",
          "state": {
            "_view_name": "StyleView",
            "_model_name": "DescriptionStyleModel",
            "description_width": "",
            "_view_module": "@jupyter-widgets/base",
            "_model_module_version": "1.5.0",
            "_view_count": null,
            "_view_module_version": "1.2.0",
            "_model_module": "@jupyter-widgets/controls"
          }
        },
        "4c25ca1828e241cab0bb6c750d2dfac6": {
          "model_module": "@jupyter-widgets/base",
          "model_name": "LayoutModel",
          "model_module_version": "1.2.0",
          "state": {
            "_view_name": "LayoutView",
            "grid_template_rows": null,
            "right": null,
            "justify_content": null,
            "_view_module": "@jupyter-widgets/base",
            "overflow": null,
            "_model_module_version": "1.2.0",
            "_view_count": null,
            "flex_flow": null,
            "width": null,
            "min_width": null,
            "border": null,
            "align_items": null,
            "bottom": null,
            "_model_module": "@jupyter-widgets/base",
            "top": null,
            "grid_column": null,
            "overflow_y": null,
            "overflow_x": null,
            "grid_auto_flow": null,
            "grid_area": null,
            "grid_template_columns": null,
            "flex": null,
            "_model_name": "LayoutModel",
            "justify_items": null,
            "grid_row": null,
            "max_height": null,
            "align_content": null,
            "visibility": null,
            "align_self": null,
            "height": null,
            "min_height": null,
            "padding": null,
            "grid_auto_rows": null,
            "grid_gap": null,
            "max_width": null,
            "order": null,
            "_view_module_version": "1.2.0",
            "grid_template_areas": null,
            "object_position": null,
            "object_fit": null,
            "grid_auto_columns": null,
            "margin": null,
            "display": null,
            "left": null
          }
        },
        "34d45f6fef7c46a78741170268ae2802": {
          "model_module": "@jupyter-widgets/controls",
          "model_name": "ButtonStyleModel",
          "model_module_version": "1.5.0",
          "state": {
            "_view_name": "StyleView",
            "_model_name": "ButtonStyleModel",
            "_view_module": "@jupyter-widgets/base",
            "_model_module_version": "1.5.0",
            "_view_count": null,
            "button_color": null,
            "font_weight": "",
            "_view_module_version": "1.2.0",
            "_model_module": "@jupyter-widgets/controls"
          }
        },
        "87c4d4d11ef54ec080d25c6f40d98802": {
          "model_module": "@jupyter-widgets/base",
          "model_name": "LayoutModel",
          "model_module_version": "1.2.0",
          "state": {
            "_view_name": "LayoutView",
            "grid_template_rows": null,
            "right": null,
            "justify_content": null,
            "_view_module": "@jupyter-widgets/base",
            "overflow": null,
            "_model_module_version": "1.2.0",
            "_view_count": null,
            "flex_flow": null,
            "width": null,
            "min_width": null,
            "border": null,
            "align_items": null,
            "bottom": null,
            "_model_module": "@jupyter-widgets/base",
            "top": null,
            "grid_column": null,
            "overflow_y": null,
            "overflow_x": null,
            "grid_auto_flow": null,
            "grid_area": null,
            "grid_template_columns": null,
            "flex": null,
            "_model_name": "LayoutModel",
            "justify_items": null,
            "grid_row": null,
            "max_height": null,
            "align_content": null,
            "visibility": null,
            "align_self": null,
            "height": null,
            "min_height": null,
            "padding": null,
            "grid_auto_rows": null,
            "grid_gap": null,
            "max_width": null,
            "order": null,
            "_view_module_version": "1.2.0",
            "grid_template_areas": null,
            "object_position": null,
            "object_fit": null,
            "grid_auto_columns": null,
            "margin": null,
            "display": null,
            "left": null
          }
        },
        "f809f053b55543a89d032f2da4b2742b": {
          "model_module": "@jupyter-widgets/controls",
          "model_name": "ButtonStyleModel",
          "model_module_version": "1.5.0",
          "state": {
            "_view_name": "StyleView",
            "_model_name": "ButtonStyleModel",
            "_view_module": "@jupyter-widgets/base",
            "_model_module_version": "1.5.0",
            "_view_count": null,
            "button_color": null,
            "font_weight": "",
            "_view_module_version": "1.2.0",
            "_model_module": "@jupyter-widgets/controls"
          }
        },
        "2f2b919891484e8886cfb877338efeeb": {
          "model_module": "@jupyter-widgets/base",
          "model_name": "LayoutModel",
          "model_module_version": "1.2.0",
          "state": {
            "_view_name": "LayoutView",
            "grid_template_rows": null,
            "right": null,
            "justify_content": null,
            "_view_module": "@jupyter-widgets/base",
            "overflow": null,
            "_model_module_version": "1.2.0",
            "_view_count": null,
            "flex_flow": null,
            "width": null,
            "min_width": null,
            "border": null,
            "align_items": null,
            "bottom": null,
            "_model_module": "@jupyter-widgets/base",
            "top": null,
            "grid_column": null,
            "overflow_y": null,
            "overflow_x": null,
            "grid_auto_flow": null,
            "grid_area": null,
            "grid_template_columns": null,
            "flex": null,
            "_model_name": "LayoutModel",
            "justify_items": null,
            "grid_row": null,
            "max_height": null,
            "align_content": null,
            "visibility": null,
            "align_self": null,
            "height": null,
            "min_height": null,
            "padding": null,
            "grid_auto_rows": null,
            "grid_gap": null,
            "max_width": null,
            "order": null,
            "_view_module_version": "1.2.0",
            "grid_template_areas": null,
            "object_position": null,
            "object_fit": null,
            "grid_auto_columns": null,
            "margin": null,
            "display": null,
            "left": null
          }
        },
        "2a18dd8cb0b941ed97a7f01ed4ce47b2": {
          "model_module": "@jupyter-widgets/controls",
          "model_name": "DescriptionStyleModel",
          "model_module_version": "1.5.0",
          "state": {
            "_view_name": "StyleView",
            "_model_name": "DescriptionStyleModel",
            "description_width": "",
            "_view_module": "@jupyter-widgets/base",
            "_model_module_version": "1.5.0",
            "_view_count": null,
            "_view_module_version": "1.2.0",
            "_model_module": "@jupyter-widgets/controls"
          }
        },
        "97be26d2664a40c18a1979729951fe49": {
          "model_module": "@jupyter-widgets/base",
          "model_name": "LayoutModel",
          "model_module_version": "1.2.0",
          "state": {
            "_view_name": "LayoutView",
            "grid_template_rows": null,
            "right": null,
            "justify_content": null,
            "_view_module": "@jupyter-widgets/base",
            "overflow": null,
            "_model_module_version": "1.2.0",
            "_view_count": null,
            "flex_flow": null,
            "width": null,
            "min_width": null,
            "border": null,
            "align_items": null,
            "bottom": null,
            "_model_module": "@jupyter-widgets/base",
            "top": null,
            "grid_column": null,
            "overflow_y": null,
            "overflow_x": null,
            "grid_auto_flow": null,
            "grid_area": null,
            "grid_template_columns": null,
            "flex": null,
            "_model_name": "LayoutModel",
            "justify_items": null,
            "grid_row": null,
            "max_height": null,
            "align_content": null,
            "visibility": null,
            "align_self": null,
            "height": null,
            "min_height": null,
            "padding": null,
            "grid_auto_rows": null,
            "grid_gap": null,
            "max_width": null,
            "order": null,
            "_view_module_version": "1.2.0",
            "grid_template_areas": null,
            "object_position": null,
            "object_fit": null,
            "grid_auto_columns": null,
            "margin": null,
            "display": null,
            "left": null
          }
        },
        "539f5405d9644bb3aded1ed964836c31": {
          "model_module": "@jupyter-widgets/base",
          "model_name": "LayoutModel",
          "model_module_version": "1.2.0",
          "state": {
            "_view_name": "LayoutView",
            "grid_template_rows": null,
            "right": null,
            "justify_content": null,
            "_view_module": "@jupyter-widgets/base",
            "overflow": null,
            "_model_module_version": "1.2.0",
            "_view_count": null,
            "flex_flow": null,
            "width": null,
            "min_width": null,
            "border": null,
            "align_items": null,
            "bottom": null,
            "_model_module": "@jupyter-widgets/base",
            "top": null,
            "grid_column": null,
            "overflow_y": null,
            "overflow_x": null,
            "grid_auto_flow": null,
            "grid_area": null,
            "grid_template_columns": null,
            "flex": null,
            "_model_name": "LayoutModel",
            "justify_items": null,
            "grid_row": null,
            "max_height": null,
            "align_content": null,
            "visibility": null,
            "align_self": null,
            "height": null,
            "min_height": null,
            "padding": null,
            "grid_auto_rows": null,
            "grid_gap": null,
            "max_width": null,
            "order": null,
            "_view_module_version": "1.2.0",
            "grid_template_areas": null,
            "object_position": null,
            "object_fit": null,
            "grid_auto_columns": null,
            "margin": null,
            "display": null,
            "left": null
          }
        }
      }
    }
  },
  "cells": [
    {
      "cell_type": "code",
      "metadata": {
        "id": "C9SnNNLlSxNN"
      },
      "source": [
        ""
      ],
      "execution_count": null,
      "outputs": []
    },
    {
      "cell_type": "code",
      "metadata": {
        "colab": {
          "base_uri": "https://localhost:8080/"
        },
        "id": "7BdsngtC8SrS",
        "outputId": "de62679d-8c2e-4b5e-848a-d38331c06a08"
      },
      "source": [
        "!pip install -Uqq fastbook\n",
        "import fastbook"
      ],
      "execution_count": null,
      "outputs": [
        {
          "name": "stdout",
          "output_type": "stream",
          "text": [
            "\u001b[K     |████████████████████████████████| 720 kB 5.4 MB/s \n",
            "\u001b[K     |████████████████████████████████| 1.2 MB 44.2 MB/s \n",
            "\u001b[K     |████████████████████████████████| 189 kB 62.8 MB/s \n",
            "\u001b[K     |████████████████████████████████| 46 kB 4.0 MB/s \n",
            "\u001b[K     |████████████████████████████████| 56 kB 4.7 MB/s \n",
            "\u001b[K     |████████████████████████████████| 51 kB 311 kB/s \n",
            "\u001b[?25h"
          ]
        }
      ]
    },
    {
      "cell_type": "code",
      "metadata": {
        "id": "LcGAXnn8TgbO"
      },
      "source": [
        "from fastbook import *\n",
        "from fastai.vision.widgets import *"
      ],
      "execution_count": 16,
      "outputs": []
    },
    {
      "cell_type": "code",
      "metadata": {
        "id": "6PjXtq9QSJ16"
      },
      "source": [
        "!pip install voila\n",
        "!jupyter serverextension enable --sys-prefix voila"
      ],
      "execution_count": null,
      "outputs": []
    },
    {
      "cell_type": "code",
      "metadata": {
        "id": "w3xYG4uiS0kc"
      },
      "source": [
        ""
      ],
      "execution_count": null,
      "outputs": []
    },
    {
      "cell_type": "code",
      "metadata": {
        "colab": {
          "background_save": true,
          "base_uri": "https://localhost:8080/"
        },
        "id": "bTRfbdxKdV9r",
        "outputId": "ec27d019-9bd5-4657-b14e-ee5050ab5539"
      },
      "source": [
        "path = Path()\n",
        "path.ls(file_exts='.pkl')"
      ],
      "execution_count": null,
      "outputs": [
        {
          "data": {
            "text/plain": [
              "(#1) [Path('export.pkl')]"
            ]
          },
          "execution_count": null,
          "metadata": {},
          "output_type": "execute_result"
        }
      ]
    },
    {
      "cell_type": "code",
      "metadata": {
        "id": "ICxzSmsGdV9s"
      },
      "source": [
        "learn_inf = load_learner(path/'export.pkl')"
      ],
      "execution_count": 5,
      "outputs": []
    },
    {
      "cell_type": "code",
      "metadata": {
        "id": "f0xSXm5_dV9u",
        "colab": {
          "base_uri": "https://localhost:8080/"
        },
        "outputId": "e7365e66-bc35-4972-db91-9e90a63e68ab"
      },
      "source": [
        "learn_inf.dls.vocab"
      ],
      "execution_count": 6,
      "outputs": [
        {
          "output_type": "execute_result",
          "data": {
            "text/plain": [
              "['стол', 'стул']"
            ]
          },
          "metadata": {},
          "execution_count": 6
        }
      ]
    },
    {
      "cell_type": "code",
      "metadata": {
        "id": "YKapo5d8dV9v"
      },
      "source": [
        "\n",
        "btn_upload = widgets.FileUpload()"
      ],
      "execution_count": 40,
      "outputs": []
    },
    {
      "cell_type": "code",
      "metadata": {
        "id": "N42u2tlAdV9w"
      },
      "source": [
        ""
      ],
      "execution_count": 40,
      "outputs": []
    },
    {
      "cell_type": "code",
      "metadata": {
        "id": "zdGMwV-sdV9z"
      },
      "source": [
        "out_pl = widgets.Output()\n",
        "out_pl.clear_output()"
      ],
      "execution_count": 41,
      "outputs": []
    },
    {
      "cell_type": "code",
      "metadata": {
        "id": "tIcm3Bc2dV9z"
      },
      "source": [
        ""
      ],
      "execution_count": 41,
      "outputs": []
    },
    {
      "cell_type": "code",
      "metadata": {
        "id": "VFSeWDjOdV91"
      },
      "source": [
        "\n",
        "lbl_pred = widgets.Label()\n",
        "lbl_pred.value = f'Загрузите файл с изображением мебели'"
      ],
      "execution_count": 42,
      "outputs": []
    },
    {
      "cell_type": "code",
      "metadata": {
        "id": "xEn4b7lCdV91"
      },
      "source": [
        "#hide_output\n",
        "btn_run = widgets.Button(description='Классифицировать')"
      ],
      "execution_count": 43,
      "outputs": []
    },
    {
      "cell_type": "code",
      "metadata": {
        "id": "C7rFhYt9dV93"
      },
      "source": [
        "def on_click_classify(change):\n",
        "    img = PILImage.create(btn_upload.data[-1])\n",
        "    out_pl.clear_output()\n",
        "    with out_pl: display(img.to_thumb(128,128))\n",
        "    pred,pred_idx,probs = learn_inf.predict(img)\n",
        "    lbl_pred.value = f'Предсказание: {pred}; Веротяность: {probs[pred_idx]:.04f}'\n",
        "\n",
        "btn_run.on_click(on_click_classify)"
      ],
      "execution_count": 44,
      "outputs": []
    },
    {
      "cell_type": "code",
      "metadata": {
        "id": "Ym8MtHmpdV94"
      },
      "source": [
        "#hide\n",
        "#Putting back btn_upload to a widget for next cell\n",
        "btn_upload = widgets.FileUpload()"
      ],
      "execution_count": 45,
      "outputs": []
    },
    {
      "cell_type": "code",
      "metadata": {
        "colab": {
          "base_uri": "https://localhost:8080/",
          "height": 361,
          "referenced_widgets": [
            "00c5e52eb1214f39a1b225bac9509d68",
            "8da7750c387a4f9e96c149d0dec5f3bb",
            "e8e6e407c604427cba04e1b6e148f999",
            "fa48e7ef93d44a6f923c9169da51f31d",
            "66d019f9a0184a208abe4c167b48960c",
            "e6ebf7f10e53446682939fc67c12dae5",
            "e6bb03831d0a4390894341baafc1ae2a",
            "5c93dce0da084b41b439229f5770d343",
            "c80ae10b42904b4ab124db1d473bade3",
            "9afeeddfbb2b4ebea7ea50a00b6cd89a",
            "303e09c969054f6baf64dc1c15b3bb0d",
            "4c25ca1828e241cab0bb6c750d2dfac6",
            "34d45f6fef7c46a78741170268ae2802",
            "87c4d4d11ef54ec080d25c6f40d98802",
            "f809f053b55543a89d032f2da4b2742b",
            "2f2b919891484e8886cfb877338efeeb",
            "2a18dd8cb0b941ed97a7f01ed4ce47b2",
            "97be26d2664a40c18a1979729951fe49",
            "539f5405d9644bb3aded1ed964836c31"
          ]
        },
        "id": "AxI2H3VpdV94",
        "outputId": "dd087188-a617-4918-ae53-1bb88374079d"
      },
      "source": [
        "#hide_output\n",
        "VBox([widgets.HTML('На эту программу ушли недели кропотливой работы.<br>И всё это с одной целью - помочь Даниилу <b>Зуеву</b>.<br>Теперь, чтобы определить является ли объект <i>стулом</i> или <i>столом</i>, он может просто загрузить его фотографию сюда!'),\n",
        "      widgets.Label('Выберите картинку'), \n",
        "      btn_upload, btn_run, out_pl, lbl_pred])"
      ],
      "execution_count": 46,
      "outputs": [
        {
          "output_type": "display_data",
          "data": {
            "application/vnd.jupyter.widget-view+json": {
              "model_id": "00c5e52eb1214f39a1b225bac9509d68",
              "version_minor": 0,
              "version_major": 2
            },
            "text/plain": [
              "VBox(children=(HTML(value='На эту программу ушли недели кропотливой работы.<br>И всё это с одной целью - помоч…"
            ]
          },
          "metadata": {}
        },
        {
          "output_type": "display_data",
          "data": {
            "text/html": [
              ""
            ],
            "text/plain": [
              "<IPython.core.display.HTML object>"
            ]
          },
          "metadata": {}
        }
      ]
    },
    {
      "cell_type": "code",
      "metadata": {
        "id": "yEQslK_YWP0u"
      },
      "source": [
        ""
      ],
      "execution_count": 46,
      "outputs": []
    }
  ]
}